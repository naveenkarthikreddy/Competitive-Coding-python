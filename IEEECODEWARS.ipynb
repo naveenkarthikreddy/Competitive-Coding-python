{
  "nbformat": 4,
  "nbformat_minor": 0,
  "metadata": {
    "colab": {
      "name": "IEEECODEWARS.ipynb",
      "provenance": [],
      "authorship_tag": "ABX9TyNlgT3IDKeCfpPQGhiKwHjd",
      "include_colab_link": true
    },
    "kernelspec": {
      "name": "python3",
      "display_name": "Python 3"
    },
    "language_info": {
      "name": "python"
    }
  },
  "cells": [
    {
      "cell_type": "markdown",
      "metadata": {
        "id": "view-in-github",
        "colab_type": "text"
      },
      "source": [
        "<a href=\"https://colab.research.google.com/github/naveenkarthikreddy/Competitive-Coding-python/blob/main/IEEECODEWARS.ipynb\" target=\"_parent\"><img src=\"https://colab.research.google.com/assets/colab-badge.svg\" alt=\"Open In Colab\"/></a>"
      ]
    },
    {
      "cell_type": "markdown",
      "metadata": {
        "id": "hMTi3lzFObiE"
      },
      "source": [
        "# **Print the below pattern!**"
      ]
    },
    {
      "cell_type": "markdown",
      "metadata": {
        "id": "IFCFawk_Onyu"
      },
      "source": [
        "Taking N as input,print the following matrix N x N in the below mentioned pattern.\n",
        "\n",
        "1 2 4 7 ……………………………\n",
        "\n",
        "3 5 8 12 …………………………..\n",
        "\n",
        "6 9 13 18 ………………………...\n",
        "\n",
        "10 14 19 25 …………………….. . . . . . . . . . . . . . . . . upto n terms\n",
        "\n",
        "Input Format\n",
        "\n",
        "First-line contains the number N\n",
        "\n",
        "Constraints\n",
        "\n",
        "1 <= N <= 30\n",
        "\n",
        "Output Format\n",
        "\n",
        "Print the required pattern of N lines\n",
        "\n",
        "Sample Input 0\n",
        "\n",
        "3\n",
        "Sample Output 0\n",
        "\n",
        "1 2 4\n",
        "3 5 8 \n",
        "6 9 13\n",
        "Explanation 0\n",
        "\n",
        "N = 3 So the required pattern contains 3 lines with 3 terms (separated by space) in each\n",
        "\n",
        "1 2 4\n",
        "\n",
        "3 5 8\n",
        "\n",
        "6 9 13"
      ]
    },
    {
      "cell_type": "code",
      "metadata": {
        "colab": {
          "base_uri": "https://localhost:8080/"
        },
        "id": "DOuZO0YGN3L_",
        "outputId": "e7d002f1-9b55-49e3-b69f-69f9ae782d4e"
      },
      "source": [
        "n=int(input())\n",
        "num=0\n",
        "temp=0\n",
        "for i in range(n):\n",
        "    temp+=(i+1)\n",
        "    num=temp\n",
        "    for j in range(1,n+1):\n",
        "        print(num,end=\" \")\n",
        "        num+=(j+i)\n",
        "    print()  "
      ],
      "execution_count": null,
      "outputs": [
        {
          "output_type": "stream",
          "text": [
            "4\n",
            "1 2 4 7 \n",
            "3 5 8 12 \n",
            "6 9 13 18 \n",
            "10 14 19 25 \n"
          ],
          "name": "stdout"
        }
      ]
    },
    {
      "cell_type": "markdown",
      "metadata": {
        "id": "2iYMXDGFOuRv"
      },
      "source": [
        "# **Balance It**"
      ]
    },
    {
      "cell_type": "markdown",
      "metadata": {
        "id": "Dl_Bo4DBOzYc"
      },
      "source": [
        "For a given string of symbols(only (,),{,},[,]) return true if string is valid else false if invalid.\n",
        "\n",
        "In a Valid string we should check if all parentheses are balanced or not, But with following constraints.\n",
        "\n",
        "“(“ is an open parenthesis but it should be considered as closed parentheses. Similarly, with \"[\" and \"{\" also.\n",
        "\n",
        "\")\", \"]\", \"}\" should be considered as opened parentheses.\n",
        "\n",
        "For better understanding: Take “()”, according to this question this should return False. But you may think that it is perfectly balanced and should be returning True. No, because we are assuming closed parenthesis( “)” is equivalent to “(“ in above question) as open and vice versa. So, “()” is equivalent to “)(“ in the real world, which is unbalanced. So it should return False.\n",
        "\n",
        "Input Format\n",
        "\n",
        "First line contains string of symbols (only (,),{,},[,])\n",
        "\n",
        "Constraints\n",
        "\n",
        "None\n",
        "\n",
        "Output Format\n",
        "\n",
        "True or False\n",
        "\n",
        "Sample Input 0\n",
        "\n",
        ")(}{][\n",
        "Sample Output 0\n",
        "\n",
        "True\n",
        "Explanation 0\n",
        "\n",
        "“)(}{][“ is indirectly written as “(){}[]”, as it is balanced we have to return true.\n",
        "\n",
        "Sample Input 1\n",
        "\n",
        "()\n",
        "Sample Output 1\n",
        "\n",
        "False\n",
        "Explanation 1\n",
        "\n",
        "\"()\" is indirectly written as \")(\", which is unbalanced. So, print False."
      ]
    },
    {
      "cell_type": "code",
      "metadata": {
        "colab": {
          "base_uri": "https://localhost:8080/"
        },
        "id": "uO6mP8JxPGp1",
        "outputId": "dbf242e2-af75-46dc-b72c-cc6013998d7e"
      },
      "source": [
        "s=input()\n",
        "temp=[]\n",
        "for i in s:\n",
        "    \n",
        "    if i is \"(\":\n",
        "        if \")\" not in temp:\n",
        "            print(False)\n",
        "            break\n",
        "\n",
        "    if i is \"{\":\n",
        "        if \"}\" not in temp:\n",
        "            print(False)\n",
        "            break\n",
        "            \n",
        "    if i is \"[\":\n",
        "        if \"]\" not in temp:\n",
        "            print(False)\n",
        "            break\n",
        "            \n",
        "    if i is \")\":\n",
        "        temp.append(i)\n",
        "    if i is \"}\":\n",
        "        temp.append(i)\n",
        "    if i is \"]\":\n",
        "        temp.append(i)\n",
        "else:\n",
        "  print(True)"
      ],
      "execution_count": null,
      "outputs": [
        {
          "output_type": "stream",
          "text": [
            ")(}{][ \n",
            "True\n"
          ],
          "name": "stdout"
        }
      ]
    },
    {
      "cell_type": "markdown",
      "metadata": {
        "id": "uUuzfUtqPO4V"
      },
      "source": [
        "# Print the difference.\n",
        "\n"
      ]
    },
    {
      "cell_type": "markdown",
      "metadata": {
        "id": "jRYE2aUoPZki"
      },
      "source": [
        "Given two number N,M (0 < N, M < 100) Print the difference between number of times the digit X appears in the range 1 to N and 1 to M\n",
        "\n",
        "Input Format\n",
        "\n",
        "First-line will contain the numbers N and M separated by a space.\n",
        "\n",
        "Second-line will contain the number X.\n",
        "\n",
        "Constraints\n",
        "\n",
        "0 < N, M < 100\n",
        "\n",
        "0 <= X <= 9\n",
        "\n",
        "Output Format\n",
        "\n",
        "Print the required difference.\n",
        "\n",
        "Sample Input 0\n",
        "\n",
        "22 13\n",
        "2\n",
        "Sample Output 0\n",
        "\n",
        "4\n",
        "Explanation 0\n",
        "\n",
        "Number of times the digit 2 appearing in the range [1,22] is 6\n",
        "\n",
        "Number of times the digit 2 appearing in the range [1,13] is 2\n",
        "\n",
        "Difference(6-2) is 4"
      ]
    },
    {
      "cell_type": "code",
      "metadata": {
        "colab": {
          "base_uri": "https://localhost:8080/"
        },
        "id": "Sws-NioOPdSC",
        "outputId": "cd767b84-4451-427e-dfdb-4e16efdfd58d"
      },
      "source": [
        "a,b = [int(i) for i in input().split()]\n",
        "x = int(input())\n",
        "\n",
        "def c1(n,x):\n",
        " \n",
        "    count = 0\n",
        "    while (n > 0):\n",
        "     \n",
        "        if (n % 10 == x):\n",
        "            count = count + 1\n",
        " \n",
        "        n = n // 10\n",
        "     \n",
        "    return count\n",
        " \n",
        " \n",
        "\n",
        "def c2(n,x):\n",
        "\n",
        "    count = 0\n",
        "\n",
        "    for i in range(x, n + 1):\n",
        "        count = count + c1(i,x)\n",
        " \n",
        "    return count\n",
        "print(c2(a,x) -c2(b,x))"
      ],
      "execution_count": null,
      "outputs": [
        {
          "output_type": "stream",
          "text": [
            "23 12\n",
            "2\n",
            "5\n"
          ],
          "name": "stdout"
        }
      ]
    },
    {
      "cell_type": "markdown",
      "metadata": {
        "id": "rmKGLe7TPjtm"
      },
      "source": [
        "# First order"
      ]
    },
    {
      "cell_type": "markdown",
      "metadata": {
        "id": "NnAvCvrLPqJz"
      },
      "source": [
        "A company wants to pack their orders based on following conditions\n",
        "\n",
        "1.Order with high priority should be packed first ,Higher the number higher the priority.\n",
        "\n",
        "2.Incase of same priority give importance to minimum packing time.\n",
        "\n",
        "Input Format\n",
        "\n",
        "First line contains N Number of orders.\n",
        "\n",
        "Second line contains names of N orders.\n",
        "\n",
        "Third line contains Priority of each N orders.\n",
        "\n",
        "Fourth line contains the Packing time of each N orders.\n",
        "\n",
        "Constraints\n",
        "\n",
        "0 < N < 10000\n",
        "\n",
        "Output Format\n",
        "\n",
        "First line contains Order of packing\n",
        "\n",
        "Second line contains Total time taken to pack N orders\n",
        "\n",
        "Sample Input 0\n",
        "\n",
        "4\n",
        "100 101 102 103\n",
        "1 2 3 3\n",
        "10 15 20 15\n",
        "Sample Output 0\n",
        "\n",
        "[103, 102, 101, 100]\n",
        "60\n",
        "Sample Input 1\n",
        "\n",
        "4\n",
        "a b c d\n",
        "1 4 3 2\n",
        "10 5 20 15\n",
        "Sample Output 1\n",
        "\n",
        "[b, c, d, a]\n",
        "50"
      ]
    },
    {
      "cell_type": "code",
      "metadata": {
        "colab": {
          "base_uri": "https://localhost:8080/"
        },
        "id": "Rg6AnLVSPt30",
        "outputId": "6f634c09-0b05-455c-d18a-f5da0b9f503b"
      },
      "source": [
        "n=int(input())\n",
        "\n",
        "l1=[x for x in input().split()]\n",
        "l2=[int(x) for x in input().split()]\n",
        "l3=[int(x) for x in input().split()]\n",
        "\n",
        "\n",
        "d={}\n",
        "for i in range(n):\n",
        "    if l2[i] in d:\n",
        "        d[l2[i]].append(l1[i])\n",
        "\n",
        "    else:\n",
        "        d[l2[i]]=[l1[i]]\n",
        "\n",
        "for i in d:\n",
        "    \n",
        "    d[i].sort(reverse=True)\n",
        "\n",
        "\n",
        "ll=[]\n",
        "for i in sorted(d,reverse=True) :\n",
        "    for j in d[i]:\n",
        "        ll.append(j)\n",
        "                \n",
        "\n",
        "lll='[{}]'.format(', '.join(ll))\n",
        "# if type(lll[0]) is str:\n",
        "print(lll)\n",
        "# else:\n",
        "        \n",
        "\n",
        "sum=0\n",
        "for x in l3:\n",
        "    sum+=x\n",
        "print(sum)"
      ],
      "execution_count": null,
      "outputs": [
        {
          "output_type": "stream",
          "text": [
            "4\n",
            "100 101 102 103\n",
            "1 2 3 3\n",
            "10 15 20 15\n",
            "[103, 102, 101, 100]\n",
            "60\n"
          ],
          "name": "stdout"
        }
      ]
    },
    {
      "cell_type": "markdown",
      "metadata": {
        "id": "1A-UD1nPP8Zg"
      },
      "source": [
        "# Decimal to Binary and Binary to Decimal."
      ]
    },
    {
      "cell_type": "markdown",
      "metadata": {
        "id": "IbTlcjsMP-Xv"
      },
      "source": [
        "Given a number N, convert it into a binary number and swap all the consecutive odd and even digit places and convert the new binary number into a decimal number.\n",
        "\n",
        "In case of an odd number of digit places, leave the last digit unchanged.\n",
        "\n",
        "Input Format\n",
        "\n",
        "First line contains: Decimal number N as input.\n",
        "\n",
        "Constraints\n",
        "\n",
        "0 < N < 100\n",
        "\n",
        "Output Format\n",
        "\n",
        "Print the new decimal number.\n",
        "\n",
        "Sample Input 0\n",
        "\n",
        "43\n",
        "Sample Output 0\n",
        "\n",
        "23\n",
        "Explanation 0\n",
        "\n",
        "Binary number of 43 is 101011. By swapping the consecutive digit places we get 010111,which is equal to 23 in decimal form."
      ]
    },
    {
      "cell_type": "code",
      "metadata": {
        "colab": {
          "base_uri": "https://localhost:8080/"
        },
        "id": "nAeMKrNgQBzS",
        "outputId": "aeb09f60-0ca5-47f3-f9d4-4f9be3a01448"
      },
      "source": [
        "n=int(input())\n",
        "\n",
        "if n==0 or n==1:\n",
        "  print(n)\n",
        "    \n",
        "b=bin(n)[2:]\n",
        "bb=\"\"\n",
        "temp1=\"\"\n",
        "temp2=\"\"\n",
        "\n",
        "def binaryToDecimal(binary):\n",
        "      \n",
        "    binary1 = binary\n",
        "    decimal, i, n = 0, 0, 0\n",
        "    while(binary != 0):\n",
        "        dec = binary % 10\n",
        "        decimal = decimal + dec * pow(2, i)\n",
        "        binary = binary//10\n",
        "        i += 1\n",
        "    print(decimal)\n",
        "\n",
        "for i in range(len(b)):\n",
        "    if i%2==0:\n",
        "        temp1=b[i]\n",
        "    else:\n",
        "        temp2=b[i]\n",
        "        bb+=temp2\n",
        "        bb+=temp1\n",
        "   \n",
        "if len(b)%2!=0:\n",
        "    bb+=b[len(b)-1]\n",
        "\n",
        "    \n",
        "\n",
        "it=int(bb)\n",
        "binaryToDecimal(it)"
      ],
      "execution_count": null,
      "outputs": [
        {
          "output_type": "stream",
          "text": [
            "23\n",
            "15\n"
          ],
          "name": "stdout"
        }
      ]
    },
    {
      "cell_type": "markdown",
      "metadata": {
        "id": "RtnqxTo6QIHe"
      },
      "source": [
        "# Recreate ATM system."
      ]
    },
    {
      "cell_type": "markdown",
      "metadata": {
        "id": "ArT2lbN8QPdK"
      },
      "source": [
        "Recreate an ATM system. Given the amount to be withdrawn and the available denominations, write a program to find all possible ways the amount could be withdrawn from the ATM system.\n",
        "\n",
        "For 0 amount, output will be zero itself.\n",
        "\n",
        "Input Format\n",
        "\n",
        "First line contains: Amount to be withdrawn.\n",
        "\n",
        "Second line contains: Number of Denominations Available.\n",
        "\n",
        "Third line contains: A list of available denominations(Given one by one in next line).\n",
        "\n",
        "Constraints\n",
        "\n",
        "Everything will be < 100.\n",
        "\n",
        "Output Format\n",
        "\n",
        "Number of different ways.\n",
        "\n",
        "Sample Input 0\n",
        "\n",
        "4\n",
        "2\n",
        "1\n",
        "2\n",
        "Sample Output 0\n",
        "\n",
        "3\n",
        "Explanation 0\n",
        "\n",
        "1 + 1 + 1 + 1\n",
        "\n",
        "2 + 2\n",
        "\n",
        "1 + 1 + 2\n",
        "\n",
        "Total 3 ways. Hence the output is 3."
      ]
    },
    {
      "cell_type": "code",
      "metadata": {
        "colab": {
          "base_uri": "https://localhost:8080/"
        },
        "id": "31Hc0jYGQWQx",
        "outputId": "eb3cfe21-39bf-4f12-d77f-aba43c1a8acc"
      },
      "source": [
        "class Solution:\n",
        "    def combinationSum(self, candidates, target):\n",
        "        self.res = []\n",
        "        self.candidates = candidates\n",
        "        self.backtrack([], 0, target)\n",
        "        return self.res\n",
        "    \n",
        "    def backtrack(self, path, indx, target):\n",
        "        \n",
        "        if target < 0:\n",
        "            return\n",
        "        \n",
        "        if target == 0:\n",
        "            self.res.append(path)\n",
        "            return \n",
        "        \n",
        "        for x in range(indx, len(self.candidates)):\n",
        "            self.backtrack(path+[self.candidates[x]], x, target - self.candidates[x])\n",
        "sum=int(input())\n",
        "n=int(input())\n",
        "l=[]\n",
        "for i in range(n):\n",
        "  l.append(int(input()))\n",
        "\n",
        "if sum==0:\n",
        "    print(0)\n",
        "else:\n",
        "    s = Solution()\n",
        "    l.sort()\n",
        "    print(len(s.combinationSum(l,sum)))\n",
        "    "
      ],
      "execution_count": null,
      "outputs": [
        {
          "output_type": "stream",
          "text": [
            "4\n",
            "2\n",
            "1\n",
            "2\n",
            "3\n"
          ],
          "name": "stdout"
        }
      ]
    }
  ]
}